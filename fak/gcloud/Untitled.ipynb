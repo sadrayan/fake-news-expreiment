{
 "cells": [
  {
   "cell_type": "code",
   "execution_count": 3,
   "metadata": {},
   "outputs": [
    {
     "name": "stdout",
     "output_type": "stream",
     "text": [
      "[NbConvertApp] Converting notebook model.ipynb to python\n",
      "[NbConvertApp] Writing 6136 bytes to ./trainer/model.py\n",
      "[NbConvertApp] Converting notebook task.ipynb to python\n",
      "[NbConvertApp] Writing 17 bytes to ./trainer/task.py\n",
      "[NbConvertApp] Converting notebook Untitled.ipynb to python\n",
      "[NbConvertApp] Writing 17 bytes to ./trainer/Untitled.py\n",
      "[NbConvertApp] Converting notebook util.ipynb to python\n",
      "[NbConvertApp] Writing 12593 bytes to ./trainer/util.py\n"
     ]
    }
   ],
   "source": [
    "! jupyter nbconvert *.ipynb --to python --output-dir=./trainer"
   ]
  },
  {
   "cell_type": "code",
   "execution_count": null,
   "metadata": {},
   "outputs": [],
   "source": []
  }
 ],
 "metadata": {
  "kernelspec": {
   "display_name": "Python 3",
   "language": "python",
   "name": "python3"
  },
  "language_info": {
   "codemirror_mode": {
    "name": "ipython",
    "version": 3
   },
   "file_extension": ".py",
   "mimetype": "text/x-python",
   "name": "python",
   "nbconvert_exporter": "python",
   "pygments_lexer": "ipython3",
   "version": "3.5.2"
  }
 },
 "nbformat": 4,
 "nbformat_minor": 2
}
