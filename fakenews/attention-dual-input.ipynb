{
 "cells": [
  {
   "cell_type": "code",
   "execution_count": 1,
   "metadata": {},
   "outputs": [],
   "source": [
    "import pandas as pd\n",
    "import glob\n",
    "import os\n",
    "import numpy as np\n",
    "from tqdm import tqdm\n",
    "import re\n",
    "\n",
    "%matplotlib inline\n",
    "import matplotlib.pyplot as plt\n",
    "plt.style.use('seaborn-whitegrid')\n",
    "\n",
    "import tensorflow as tf\n",
    "from tensorflow.keras import backend as K\n",
    "\n",
    "# Initialize session\n",
    "sess = tf.Session()\n",
    "\n",
    "# Reduce logging output.\n",
    "tf.logging.set_verbosity(tf.logging.ERROR)\n",
    "\n"
   ]
  },
  {
   "cell_type": "code",
   "execution_count": 2,
   "metadata": {},
   "outputs": [],
   "source": [
    "\n",
    "labels = {0:'false', 1:'partly true', 2:'true'}\n"
   ]
  },
  {
   "cell_type": "code",
   "execution_count": 4,
   "metadata": {},
   "outputs": [
    {
     "data": {
      "text/html": [
       "<div>\n",
       "<style scoped>\n",
       "    .dataframe tbody tr th:only-of-type {\n",
       "        vertical-align: middle;\n",
       "    }\n",
       "\n",
       "    .dataframe tbody tr th {\n",
       "        vertical-align: top;\n",
       "    }\n",
       "\n",
       "    .dataframe thead th {\n",
       "        text-align: right;\n",
       "    }\n",
       "</style>\n",
       "<table border=\"1\" class=\"dataframe\">\n",
       "  <thead>\n",
       "    <tr style=\"text-align: right;\">\n",
       "      <th></th>\n",
       "      <th>Unnamed: 0</th>\n",
       "      <th>article</th>\n",
       "      <th>claim</th>\n",
       "      <th>claimant</th>\n",
       "      <th>date</th>\n",
       "      <th>label</th>\n",
       "    </tr>\n",
       "  </thead>\n",
       "  <tbody>\n",
       "    <tr>\n",
       "      <th>19415</th>\n",
       "      <td>50816</td>\n",
       "      <td>medicaid gov medicaid marketplace overview fed...</td>\n",
       "      <td>single mother two qualify basic healthcare med...</td>\n",
       "      <td>Chris Koster</td>\n",
       "      <td>2016-01-20</td>\n",
       "      <td>1</td>\n",
       "    </tr>\n",
       "    <tr>\n",
       "      <th>19416</th>\n",
       "      <td>58918</td>\n",
       "      <td>##th amendment constitution direct election se...</td>\n",
       "      <td>fake news media wants speak house midterm resu...</td>\n",
       "      <td>Donald Trump</td>\n",
       "      <td>2018-11-19</td>\n",
       "      <td>0</td>\n",
       "    </tr>\n",
       "    <tr>\n",
       "      <th>19417</th>\n",
       "      <td>23492</td>\n",
       "      <td>robert mueller former director named special c...</td>\n",
       "      <td>fbi announced inquiry russian ties trump campa...</td>\n",
       "      <td>NaN</td>\n",
       "      <td>2017-10-27</td>\n",
       "      <td>2</td>\n",
       "    </tr>\n",
       "    <tr>\n",
       "      <th>19418</th>\n",
       "      <td>31249</td>\n",
       "      <td>points marco rubio troubled financial history ...</td>\n",
       "      <td>says question financial skills cnbc debate inc...</td>\n",
       "      <td>Marco Rubio</td>\n",
       "      <td>2015-10-28</td>\n",
       "      <td>0</td>\n",
       "    </tr>\n",
       "    <tr>\n",
       "      <th>19419</th>\n",
       "      <td>3703</td>\n",
       "      <td>transcripts return transcripts main page state...</td>\n",
       "      <td>president george bush spent trillion tax cuts ...</td>\n",
       "      <td>Donna Brazile</td>\n",
       "      <td>2009-08-02</td>\n",
       "      <td>1</td>\n",
       "    </tr>\n",
       "  </tbody>\n",
       "</table>\n",
       "</div>"
      ],
      "text/plain": [
       "       Unnamed: 0                                            article  \\\n",
       "19415       50816  medicaid gov medicaid marketplace overview fed...   \n",
       "19416       58918  ##th amendment constitution direct election se...   \n",
       "19417       23492  robert mueller former director named special c...   \n",
       "19418       31249  points marco rubio troubled financial history ...   \n",
       "19419        3703  transcripts return transcripts main page state...   \n",
       "\n",
       "                                                   claim       claimant  \\\n",
       "19415  single mother two qualify basic healthcare med...   Chris Koster   \n",
       "19416  fake news media wants speak house midterm resu...   Donald Trump   \n",
       "19417  fbi announced inquiry russian ties trump campa...            NaN   \n",
       "19418  says question financial skills cnbc debate inc...    Marco Rubio   \n",
       "19419  president george bush spent trillion tax cuts ...  Donna Brazile   \n",
       "\n",
       "             date  label  \n",
       "19415  2016-01-20      1  \n",
       "19416  2018-11-19      0  \n",
       "19417  2017-10-27      2  \n",
       "19418  2015-10-28      0  \n",
       "19419  2009-08-02      1  "
      ]
     },
     "execution_count": 4,
     "metadata": {},
     "output_type": "execute_result"
    }
   ],
   "source": [
    "\n",
    "train_df = pd.read_csv('../data/full_train.cvs')\n",
    "train_df = train_df.sample(frac=.25).reset_index(drop=True)\n",
    "\n",
    "train_df.tail()"
   ]
  },
  {
   "cell_type": "code",
   "execution_count": 5,
   "metadata": {},
   "outputs": [
    {
     "name": "stdout",
     "output_type": "stream",
     "text": [
      "num train:  (14565, 2)\n",
      "num test:  (14565, 3)\n"
     ]
    },
    {
     "name": "stderr",
     "output_type": "stream",
     "text": [
      "Using TensorFlow backend.\n"
     ]
    },
    {
     "data": {
      "text/html": [
       "<div>\n",
       "<style scoped>\n",
       "    .dataframe tbody tr th:only-of-type {\n",
       "        vertical-align: middle;\n",
       "    }\n",
       "\n",
       "    .dataframe tbody tr th {\n",
       "        vertical-align: top;\n",
       "    }\n",
       "\n",
       "    .dataframe thead th {\n",
       "        text-align: right;\n",
       "    }\n",
       "</style>\n",
       "<table border=\"1\" class=\"dataframe\">\n",
       "  <thead>\n",
       "    <tr style=\"text-align: right;\">\n",
       "      <th></th>\n",
       "      <th>claim</th>\n",
       "      <th>article</th>\n",
       "    </tr>\n",
       "  </thead>\n",
       "  <tbody>\n",
       "    <tr>\n",
       "      <th>11284</th>\n",
       "      <td>prohibition ended police deaths reach ### year...</td>\n",
       "      <td>scope marijuana use united states marijuana co...</td>\n",
       "    </tr>\n",
       "    <tr>\n",
       "      <th>11964</th>\n",
       "      <td>photograph shows hercules world biggest dog se...</td>\n",
       "      <td>## stone dog world heaviest proud owner tom sc...</td>\n",
       "    </tr>\n",
       "    <tr>\n",
       "      <th>5390</th>\n",
       "      <td>oil companies obtain acre public land less pri...</td>\n",
       "      <td>fair share companies sit public lands less cup...</td>\n",
       "    </tr>\n",
       "    <tr>\n",
       "      <th>860</th>\n",
       "      <td>casey anthony opening home daycare center flor...</td>\n",
       "      <td>false motorcycle curfew ## states march #### s...</td>\n",
       "    </tr>\n",
       "    <tr>\n",
       "      <th>15795</th>\n",
       "      <td>governing magazine estimated states expand med...</td>\n",
       "      <td>rural hospitals life support story part specia...</td>\n",
       "    </tr>\n",
       "  </tbody>\n",
       "</table>\n",
       "</div>"
      ],
      "text/plain": [
       "                                                   claim  \\\n",
       "11284  prohibition ended police deaths reach ### year...   \n",
       "11964  photograph shows hercules world biggest dog se...   \n",
       "5390   oil companies obtain acre public land less pri...   \n",
       "860    casey anthony opening home daycare center flor...   \n",
       "15795  governing magazine estimated states expand med...   \n",
       "\n",
       "                                                 article  \n",
       "11284  scope marijuana use united states marijuana co...  \n",
       "11964  ## stone dog world heaviest proud owner tom sc...  \n",
       "5390   fair share companies sit public lands less cup...  \n",
       "860    false motorcycle curfew ## states march #### s...  \n",
       "15795  rural hospitals life support story part specia...  "
      ]
     },
     "execution_count": 5,
     "metadata": {},
     "output_type": "execute_result"
    }
   ],
   "source": [
    "import numpy as np\n",
    "from sklearn.model_selection import train_test_split\n",
    "from sklearn.preprocessing import LabelEncoder\n",
    "from keras.utils import np_utils\n",
    "\n",
    "\n",
    "X = train_df[['claim', 'article']]\n",
    "y = train_df['label']\n",
    "\n",
    "# encode class values as integers\n",
    "encoder = LabelEncoder()\n",
    "encoder.fit(y)\n",
    "y = encoder.transform(y)\n",
    "# convert integers to dummy variables (i.e. one hot encoded)\n",
    "y = np_utils.to_categorical(y)\n",
    "\n",
    "X_train, X_test, y_train, y_test = train_test_split(X, y, test_size=0.25, random_state=42)\n",
    "\n",
    "print(\"num train: \", X_train.shape)\n",
    "print(\"num test: \", y_train.shape)\n",
    "\n",
    "X_train.tail()"
   ]
  },
  {
   "cell_type": "code",
   "execution_count": 7,
   "metadata": {},
   "outputs": [
    {
     "name": "stdout",
     "output_type": "stream",
     "text": [
      "tokenizing input data...\n",
      "dictionary size:  133883\n"
     ]
    }
   ],
   "source": [
    "from nltk.corpus import stopwords as sw\n",
    "from keras.preprocessing.text import Tokenizer\n",
    "import string\n",
    "from keras.preprocessing.sequence import pad_sequences\n",
    "\n",
    "\n",
    "MAX_NB_WORDS = 100000\n",
    "max_seq_len = 300\n",
    "label_names = [\"true\", \"almost\", \"false\"]\n",
    "\n",
    "num_classes = len(label_names)\n",
    "\n",
    "print(\"tokenizing input data...\")\n",
    "tokenizer = Tokenizer(num_words=MAX_NB_WORDS, lower=True, char_level=False)\n",
    "\n",
    "tokenizer.fit_on_texts(X_train['claim'].tolist() + X_train['article'].tolist() )\n",
    "\n",
    "train_claim_seq   = tokenizer.texts_to_sequences(X_train['claim'].tolist())\n",
    "train_article_seq = tokenizer.texts_to_sequences(X_train['article'].tolist())\n",
    "\n",
    "test_claim_seq   = tokenizer.texts_to_sequences(X_test['claim'].tolist())\n",
    "text_article_seq = tokenizer.texts_to_sequences(X_test['article'].tolist())\n",
    "\n",
    "word_index = tokenizer.word_index\n",
    "print(\"dictionary size: \", len(word_index))\n",
    "nb_words = min(MAX_NB_WORDS, len(word_index)) + 1\n",
    "\n",
    "#pad sequences\n",
    "train_claim_seq   = pad_sequences(train_claim_seq, maxlen=max_seq_len)\n",
    "train_article_seq = pad_sequences(train_article_seq, maxlen=max_seq_len)\n",
    "\n",
    "test_claim_seq    = pad_sequences(test_claim_seq, maxlen=max_seq_len)\n",
    "test_article_seq  = pad_sequences(text_article_seq, maxlen=max_seq_len)\n"
   ]
  },
  {
   "cell_type": "code",
   "execution_count": 8,
   "metadata": {},
   "outputs": [],
   "source": [
    "#training params\n",
    "batch_size = 256 \n",
    "num_epochs = 4 \n",
    "\n",
    "#model parameters\n",
    "num_filters = 64 \n",
    "embed_dim = 300 \n",
    "weight_decay = 1e-4\n"
   ]
  },
  {
   "cell_type": "code",
   "execution_count": 9,
   "metadata": {},
   "outputs": [
    {
     "name": "stderr",
     "output_type": "stream",
     "text": [
      "1521it [00:00, 15199.61it/s]"
     ]
    },
    {
     "name": "stdout",
     "output_type": "stream",
     "text": [
      "loading word embeddings...\n"
     ]
    },
    {
     "name": "stderr",
     "output_type": "stream",
     "text": [
      "999995it [01:11, 14043.88it/s]\n"
     ]
    },
    {
     "name": "stdout",
     "output_type": "stream",
     "text": [
      "found 999995 word vectors\n",
      "preparing embedding matrix...\n",
      "number of null word embeddings: 36863\n",
      "sample words not found:  ['mugonyi' 'spendathon' 'hininger' 'gyor' 'nishio' 'oersteds' 'bliley'\n",
      " 'cutor' 'lepage' 'gualtieri']\n"
     ]
    }
   ],
   "source": [
    "#load embeddings\n",
    "import os, re, csv, math, codecs\n",
    "\n",
    "print('loading word embeddings...')\n",
    "embeddings_index = {}\n",
    "f = codecs.open('/home/sonic/.keras/datasets/wiki-news-300d-1M.vec', encoding='utf-8')\n",
    "for line in tqdm(f):\n",
    "    values = line.rstrip().rsplit(' ')\n",
    "    word = values[0]\n",
    "    coefs = np.asarray(values[1:], dtype='float32')\n",
    "    embeddings_index[word] = coefs\n",
    "f.close()\n",
    "print('found %s word vectors' % len(embeddings_index))\n",
    "\n",
    "#embedding matrix\n",
    "print('preparing embedding matrix...')\n",
    "words_not_found = []\n",
    "\n",
    "embedding_matrix = np.zeros((nb_words, embed_dim))\n",
    "for word, i in word_index.items():\n",
    "    if i >= nb_words:\n",
    "        continue\n",
    "    embedding_vector = embeddings_index.get(word)\n",
    "    if (embedding_vector is not None) and len(embedding_vector) > 0:\n",
    "        # words not found in embedding index will be all-zeros.\n",
    "        embedding_matrix[i] = embedding_vector\n",
    "    else:\n",
    "        words_not_found.append(word)\n",
    "print('number of null word embeddings: %d' % np.sum(np.sum(embedding_matrix, axis=1) == 0))\n",
    "print(\"sample words not found: \", np.random.choice(words_not_found, 10))"
   ]
  },
  {
   "cell_type": "code",
   "execution_count": 10,
   "metadata": {},
   "outputs": [
    {
     "name": "stdout",
     "output_type": "stream",
     "text": [
      "__________________________________________________________________________________________________\n",
      "Layer (type)                    Output Shape         Param #     Connected to                     \n",
      "==================================================================================================\n",
      "claim (InputLayer)              (None, None)         0                                            \n",
      "__________________________________________________________________________________________________\n",
      "article (InputLayer)            (None, None)         0                                            \n",
      "__________________________________________________________________________________________________\n",
      "claim_emb (Embedding)           (None, None, 300)    30000300    claim[0][0]                      \n",
      "__________________________________________________________________________________________________\n",
      "article_emb (Embedding)         (None, None, 300)    30000300    article[0][0]                    \n",
      "__________________________________________________________________________________________________\n",
      "lstm (LSTM)                     (None, 128)          219648      claim_emb[0][0]                  \n",
      "__________________________________________________________________________________________________\n",
      "lstm_1 (LSTM)                   (None, 128)          219648      article_emb[0][0]                \n",
      "__________________________________________________________________________________________________\n",
      "concat-layer (Concatenate)      (None, 256)          0           lstm[0][0]                       \n",
      "                                                                 lstm_1[0][0]                     \n",
      "__________________________________________________________________________________________________\n",
      "priority (Dense)                (None, 3)            771         concat-layer[0][0]               \n",
      "==================================================================================================\n",
      "Total params: 60,440,667\n",
      "Trainable params: 440,067\n",
      "Non-trainable params: 60,000,600\n",
      "__________________________________________________________________________________________________\n"
     ]
    }
   ],
   "source": [
    "from tensorflow import keras\n",
    "from tensorflow.keras import layers\n",
    "\n",
    "\n",
    "# num_tags = 12  # Number of unique issue tags\n",
    "# num_words = 10000  # Size of vocabulary obtained when preprocessing text data\n",
    "# num_departments = 4  # Number of departments for predictions\n",
    "\n",
    "claim_input   = keras.Input(shape=(None,), name='claim')    # Variable-length sequence of ints\n",
    "article_input = keras.Input(shape=(None,), name='article')  # Variable-length sequence of ints\n",
    "\n",
    "# Embed each word into vector\n",
    "claim_features   = layers.Embedding(nb_words, embed_dim, weights=[embedding_matrix], \n",
    "                                  input_length=max_seq_len, trainable=False, name='claim_emb')(claim_input)\n",
    "# Embed each word into vector\n",
    "article_features = layers.Embedding(nb_words, embed_dim, weights=[embedding_matrix], \n",
    "                                 input_length=max_seq_len, trainable=False, name='article_emb')(article_input)\n",
    "\n",
    "# Reduce sequence of embedded words in the title into a single 128-dimensional vector\n",
    "claim_features = layers.LSTM(128)(claim_features)\n",
    "# Reduce sequence of embedded words in the body into a single 32-dimensional vector\n",
    "article_features = layers.LSTM(128)(article_features)\n",
    "\n",
    "# Merge all available features into a single large vector via concatenation\n",
    "x = layers.concatenate([claim_features, article_features], name='concat-layer')\n",
    "\n",
    "# Stick a logistic regression for priority prediction on top of the features\n",
    "priority_pred = layers.Dense(num_classes, activation='softmax', name='priority')(x)\n",
    "# Stick a department classifier on top of the features\n",
    "# department_pred = layers.Dense(num_departments, activation='softmax', name='department')(x)\n",
    "\n",
    "# Instantiate an end-to-end model predicting both priority and department\n",
    "model = keras.Model(inputs=[claim_input, article_input], outputs=[priority_pred], name='fake-model')\n",
    "\n",
    "model.compile(optimizer=keras.optimizers.RMSprop(1e-3),\n",
    "              loss='categorical_crossentropy', metrics=['categorical_accuracy'])\n",
    "\n",
    "keras.utils.plot_model(model, 'multi_input_model.png', show_shapes=True)\n",
    "\n",
    "model.summary()\n"
   ]
  },
  {
   "cell_type": "code",
   "execution_count": 11,
   "metadata": {},
   "outputs": [
    {
     "name": "stdout",
     "output_type": "stream",
     "text": [
      "Train on 13108 samples, validate on 1457 samples\n",
      "Epoch 1/4\n",
      "13108/13108 [==============================] - 95s 7ms/sample - loss: 0.9474 - categorical_accuracy: 0.4984 - val_loss: 0.9369 - val_categorical_accuracy: 0.5299\n",
      "Epoch 2/4\n",
      "13108/13108 [==============================] - 94s 7ms/sample - loss: 0.9504 - categorical_accuracy: 0.5261 - val_loss: 0.9390 - val_categorical_accuracy: 0.4990\n",
      "Epoch 3/4\n",
      "13108/13108 [==============================] - 94s 7ms/sample - loss: 0.9138 - categorical_accuracy: 0.5376 - val_loss: 0.9217 - val_categorical_accuracy: 0.5388\n",
      "Epoch 4/4\n",
      "13108/13108 [==============================] - 94s 7ms/sample - loss: 0.8983 - categorical_accuracy: 0.5542 - val_loss: 0.9073 - val_categorical_accuracy: 0.5463\n"
     ]
    }
   ],
   "source": [
    "#model training\n",
    "\n",
    "def initialize_vars(sess):\n",
    "    sess.run(tf.local_variables_initializer())\n",
    "    sess.run(tf.global_variables_initializer())\n",
    "    sess.run(tf.tables_initializer())\n",
    "    K.set_session(sess)\n",
    "    \n",
    "# Instantiate variables\n",
    "initialize_vars(sess)\n",
    "\n",
    "\n",
    "hist = model.fit({'claim': train_claim_seq, 'article': train_article_seq},\n",
    "          y_train,\n",
    "          epochs=num_epochs, validation_split=0.1,verbose=1,\n",
    "          batch_size=batch_size)"
   ]
  },
  {
   "cell_type": "code",
   "execution_count": 12,
   "metadata": {},
   "outputs": [
    {
     "data": {
      "image/png": "[encoded data removed]",
      "text/plain": [
       "<Figure size 432x288 with 1 Axes>"
      ]
     },
     "metadata": {},
     "output_type": "display_data"
    }
   ],
   "source": [
    "def plot_history(hist):\n",
    "    #generate plots\n",
    "    plt.figure()\n",
    "    plt.plot(hist.history['loss'], lw=2.0, color='b', label='train')\n",
    "    plt.plot(hist.history['val_loss'], lw=2.0, color='r', label='val')\n",
    "    plt.xlabel('Epochs')\n",
    "    plt.ylabel('Cross-Entropy Loss')\n",
    "    plt.legend(loc='upper right')\n",
    "    plt.show()\n",
    "\n",
    "#     plt.figure()\n",
    "#     plt.plot(hist.history['acc'], lw=2.0, color='b', label='train')\n",
    "#     plt.plot(hist.history['val_acc'], lw=2.0, color='r', label='val')\n",
    "#     plt.xlabel('Epochs')\n",
    "#     plt.ylabel('Accuracy')\n",
    "#     plt.legend(loc='upper left')\n",
    "#     plt.show()\n",
    "\n",
    "plot_history(hist)"
   ]
  },
  {
   "cell_type": "code",
   "execution_count": 13,
   "metadata": {},
   "outputs": [
    {
     "data": {
      "text/plain": [
       "array([[0.5172972 , 0.35597152, 0.12673129],\n",
       "       [0.26704112, 0.57280797, 0.16015093],\n",
       "       [0.6122778 , 0.28514203, 0.10258019],\n",
       "       ...,\n",
       "       [0.6977874 , 0.2281594 , 0.07405315],\n",
       "       [0.27420488, 0.36726153, 0.3585336 ],\n",
       "       [0.4329025 , 0.39273345, 0.17436402]], dtype=float32)"
      ]
     },
     "execution_count": 13,
     "metadata": {},
     "output_type": "execute_result"
    }
   ],
   "source": [
    "y_pred = model.predict({'claim': test_claim_seq, 'article': test_article_seq})\n",
    "y_pred"
   ]
  },
  {
   "cell_type": "code",
   "execution_count": 14,
   "metadata": {},
   "outputs": [
    {
     "name": "stdout",
     "output_type": "stream",
     "text": [
      "sklearn Macro-F1-Score: 0.35889201025064926\n",
      "sklearn Micro-F1-Score: 0.5349124613800206\n",
      "sklearn weighted-F1-Score: 0.4796355297026243\n",
      "sklearn no average-F1-Score: [0.65339161 0.37875752 0.0445269 ]\n",
      "              precision    recall  f1-score   support\n",
      "\n",
      "       false       0.53      0.84      0.65      2404\n",
      " partly true       0.54      0.29      0.38      1941\n",
      "        true       0.41      0.02      0.04       510\n",
      "\n",
      "   micro avg       0.53      0.53      0.53      4855\n",
      "   macro avg       0.50      0.39      0.36      4855\n",
      "weighted avg       0.52      0.53      0.48      4855\n",
      "\n"
     ]
    }
   ],
   "source": [
    "# Results\n",
    "from sklearn.metrics import f1_score, classification_report\n",
    "\n",
    "y_test = np.argmax(y_test, axis=1)\n",
    "y_pred = np.argmax(y_pred, axis=1)\n",
    "\n",
    "# Results\n",
    "print('sklearn Macro-F1-Score:',      f1_score(y_test, y_pred, average='macro'))\n",
    "print('sklearn Micro-F1-Score:',      f1_score(y_test, y_pred, average='micro'))  \n",
    "print('sklearn weighted-F1-Score:',   f1_score(y_test, y_pred, average='weighted'))  \n",
    "print('sklearn no average-F1-Score:', f1_score(y_test, y_pred, average=None))\n",
    "\n",
    "print(classification_report(y_test, y_pred, target_names=labels.values()))"
   ]
  },
  {
   "cell_type": "markdown",
   "metadata": {},
   "source": [
    "# Gcloud"
   ]
  },
  {
   "cell_type": "code",
   "execution_count": 15,
   "metadata": {},
   "outputs": [
    {
     "name": "stdout",
     "output_type": "stream",
     "text": [
      "\n",
      "WARNING: The TensorFlow contrib module will not be included in TensorFlow 2.0.\n",
      "For more information, please see:\n",
      "  * https://github.com/tensorflow/community/blob/master/rfcs/20180907-contrib-sunset.md\n",
      "  * https://github.com/tensorflow/addons\n",
      "If you depend on functionality not listed there, please file an issue.\n",
      "\n",
      "Model exported to:  b'keras_export/1574209457'\n"
     ]
    }
   ],
   "source": [
    "# Export the model to a local SavedModel directory \n",
    "export_path = tf.contrib.saved_model.save_keras_model(model, 'keras_export')\n",
    "print(\"Model exported to: \", export_path)"
   ]
  },
  {
   "cell_type": "code",
   "execution_count": 16,
   "metadata": {},
   "outputs": [
    {
     "name": "stdout",
     "output_type": "stream",
     "text": [
      "Updated property [core/project].\n",
      "Updated property [ml_engine/local_python].\n"
     ]
    }
   ],
   "source": [
    "# GCloud\n",
    "! export GOOGLE_APPLICATION_CREDENTIALS=\"/home/sonic/leadersprize/fakenews-40cea3fac9e2.json\"\n",
    "# os.environ['GOOGLE_APPLICATION_CREDENTIALS'] = '/home/sonic/leadersprize/fakenews-40cea3fac9e2.json'\n",
    "# %env GOOGLE_APPLICATION_CREDENTIALS '/home/sonic/leadersprize/fakenews-40cea3fac9e2.json'\n",
    "\n",
    "PROJECT_ID = \"fakenews-259222\" #@param {type:\"string\"}\n",
    "BUCKET_NAME =  PROJECT_ID + \"-model\" #@param {type:\"string\"}\n",
    "REGION = \"us-central1\" #@param {type:\"string\"\n",
    "\n",
    "JOB_NAME = 'my_first_keras_job'\n",
    "JOB_DIR = 'gs://' + BUCKET_NAME + '/keras-job-dir'\n",
    "\n",
    "! gcloud config set project $PROJECT_ID\n",
    "# Explicitly tell `gcloud ai-platform local train` to use Python 3 \n",
    "! gcloud config set ml_engine/local_python $(which python3)"
   ]
  },
  {
   "cell_type": "code",
   "execution_count": 17,
   "metadata": {},
   "outputs": [
    {
     "name": "stdout",
     "output_type": "stream",
     "text": [
      "Creating gs://fakenews-259222-model/...\n",
      "ServiceException: 409 Bucket fakenews-259222-model already exists.\n",
      "                                 gs://fakenews-259222-model/data/\n"
     ]
    }
   ],
   "source": [
    "# Only if your bucket doesn't already exist: Run the following cell to create your Cloud Storage bucket.\n",
    "! gsutil mb -l $REGION gs://$BUCKET_NAME\n",
    "# ! gsutil acl set -R project-private gs://$BUCKET_NAME\n",
    "! gsutil ls -al gs://$BUCKET_NAME"
   ]
  },
  {
   "cell_type": "code",
   "execution_count": 19,
   "metadata": {},
   "outputs": [
    {
     "name": "stdout",
     "output_type": "stream",
     "text": [
      "Model exported to:  b'gs://fakenews-259222-model/keras-job-dir/keras_export/1574209944'\n"
     ]
    }
   ],
   "source": [
    "%%time\n",
    "\n",
    "# Export the model to a SavedModel directory in Cloud Storage\n",
    "export_path = tf.contrib.saved_model.save_keras_model(model, JOB_DIR + '/keras_export')\n",
    "print(\"Model exported to: \", export_path)"
   ]
  },
  {
   "cell_type": "code",
   "execution_count": 22,
   "metadata": {},
   "outputs": [
    {
     "name": "stdout",
     "output_type": "stream",
     "text": [
      "Created ml engine model [projects/fakenews-259222/models/my_first_keras_model].\r\n"
     ]
    }
   ],
   "source": [
    "MODEL_NAME = \"my_first_keras_model\"\n",
    "MODEL_VERSION = \"v1\"\n",
    "\n",
    "! gcloud ai-platform models create $MODEL_NAME \\\n",
    "  --regions $REGION"
   ]
  },
  {
   "cell_type": "code",
   "execution_count": null,
   "metadata": {},
   "outputs": [],
   "source": [
    "# Get a list of directories in the `keras_export` parent directory\n",
    "KERAS_EXPORT_DIRS = ! gsutil ls\n",
    "print(KERAS_EXPORT_DIRS)"
   ]
  },
  {
   "cell_type": "code",
   "execution_count": 23,
   "metadata": {},
   "outputs": [
    {
     "name": "stdout",
     "output_type": "stream",
     "text": [
      "gs://fakenews-259222-model/keras-job-dir/keras_export/1574209944\n",
      "saved model path gs://fakenews-259222-model/keras-job-dir/keras_export/1574209944\n",
      "Creating version (this might take a few minutes)......done.                    \n"
     ]
    }
   ],
   "source": [
    "# Get a list of directories in the `keras_export` parent directory\n",
    "KERAS_EXPORT_DIRS = export_path.decode(\"utf-8\") \n",
    "print (KERAS_EXPORT_DIRS)\n",
    "\n",
    "# Pick the directory with the latest tiAmestamp, in case you've trained\n",
    "# multiple times\n",
    "SAVED_MODEL_PATH = KERAS_EXPORT_DIRS\n",
    "\n",
    "print('saved model path', SAVED_MODEL_PATH)\n",
    "\n",
    "# Create model version based on that SavedModel directory\n",
    "! gcloud ai-platform versions create $MODEL_VERSION \\\n",
    "  --model $MODEL_NAME \\\n",
    "  --runtime-version 1.13 \\\n",
    "  --python-version 3.5 \\\n",
    "  --framework tensorflow \\\n",
    "  --origin $SAVED_MODEL_PATH"
   ]
  },
  {
   "cell_type": "code",
   "execution_count": 58,
   "metadata": {},
   "outputs": [
    {
     "name": "stdout",
     "output_type": "stream",
     "text": [
      "{\"values\": [[0, 0, 0, 0, 0, 0, 0, 0, 0, 0, 0, 0, 0, 0, 0, 0, 0, 0, 0, 0, 0, 0, 0, 0, 0, 0, 0, 0, 0, 0, 0, 0, 0, 0, 0, 0, 0, 0, 0, 0, 0, 0, 0, 0, 0, 0, 0, 0, 0, 0, 0, 0, 0, 0, 0, 0, 0, 0, 0, 0, 0, 0, 0, 0, 0, 0, 0, 0, 0, 0, 0, 0, 0, 0, 0, 0, 0, 0, 0, 0, 0, 0, 0, 0, 0, 0, 0, 0, 0, 0, 0, 0, 0, 0, 0, 0, 0, 0, 0, 0, 0, 0, 0, 0, 0, 0, 0, 0, 0, 0, 0, 0, 0, 0, 0, 0, 0, 0, 0, 0, 0, 0, 0, 0, 0, 0, 0, 0, 0, 0, 0, 0, 0, 0, 0, 0, 0, 0, 0, 0, 0, 0, 0, 0, 0, 0, 0, 0, 0, 0, 0, 0, 0, 0, 0, 0, 0, 0, 0, 0, 0, 0, 0, 0, 0, 0, 0, 0, 0, 0, 0, 0, 0, 0, 0, 0, 0, 0, 0, 0, 0, 0, 0, 0, 0, 0, 0, 0, 0, 0, 0, 0, 0, 0, 0, 0, 0, 0, 0, 0, 0, 0, 0, 0, 0, 0, 0, 0, 0, 0, 0, 0, 0, 0, 0, 0, 0, 0, 0, 0, 0, 0, 0, 0, 0, 0, 0, 0, 0, 0, 0, 0, 0, 0, 0, 0, 0, 0, 0, 0, 0, 0, 0, 0, 0, 0, 0, 0, 0, 0, 0, 0, 0, 0, 0, 0, 0, 0, 0, 0, 0, 0, 0, 0, 0, 0, 0, 0, 0, 0, 0, 0, 0, 0, 0, 0, 0, 0, 0, 0, 0, 0, 0, 0, 0, 0, 0, 0, 198, 82343, 1509, 165, 615, 3681, 2551, 659, 1353, 80, 2850, 26340], [8660, 2067, 1884, 122, 1456, 347, 567, 2145, 73, 479, 1446, 3627, 5, 2494, 738, 3792, 20, 2591, 266, 374, 3585, 3471, 1019, 1446, 5472, 632, 24, 109, 64, 190, 1974, 77, 526, 595, 603, 5442, 366, 1724, 2556, 4542, 4774, 207, 65, 863, 3932, 42519, 2974, 65, 2117, 6535, 11, 18281, 5189, 1852, 10442, 383, 225, 19, 1106, 271, 1973, 17783, 42520, 26, 120, 1973, 14, 247, 1446, 632, 857, 1724, 758, 40, 6730, 689, 1974, 77, 526, 9067, 9558, 1373, 11776, 10767, 7325, 876, 462, 175, 1724, 563, 77, 1019, 5343, 7358, 10020, 1373, 11776, 5860, 1956, 674, 3471, 6075, 6665, 30, 77, 167, 1803, 5860, 689, 395, 3441, 1373, 11776, 526, 1446, 876, 462, 175, 1724, 563, 77, 3471, 6665, 1956, 167, 13, 16008, 24376, 2142, 178, 1592, 3500, 747, 4213, 3562, 1446, 82, 427, 1724, 1464, 1243, 1160, 650, 2853, 887, 5013, 46, 1446, 4709, 32, 1724, 398, 1030, 18569, 2022, 1516, 800, 1160, 496, 117, 614, 2073, 11638, 374, 89, 2165, 1639, 1446, 5066, 2146, 2337, 152, 4133, 4529, 2593, 7, 3, 147, 560, 115, 1446, 3120, 192, 1164, 6129, 1427, 354, 112, 2359, 1210, 1241, 200, 2090, 449, 51, 873, 20022, 1724, 5661, 65, 719, 1446, 773, 10442, 149, 873, 1150, 1376, 4160, 65, 5661, 1, 13, 5661, 104, 4160, 6436, 1703, 1, 108, 77, 870, 1446, 300, 36, 4160, 65, 1703, 11559, 1446, 15753, 13743, 13634, 4160, 65, 14, 247, 5661, 65, 719, 4325, 1446, 2004, 63, 98, 783, 102, 65, 6350, 149, 5661, 65, 641, 9686, 1446, 6, 182, 818, 449, 65, 689, 3608, 4790, 4152, 140, 585, 1446, 73, 190, 8115, 10442, 3629, 65, 36513, 269, 43, 1150, 11008, 211, 399, 3562, 1446, 26685, 82, 533, 1724, 775, 306, 3562, 1446, 2320, 9099, 3830, 3562, 1446, 1125, 3360, 82, 216, 83]], \"key\": 1}\r\n",
      "{\"values\": [[0, 0, 0, 0, 0, 0, 0, 0, 0, 0, 0, 0, 0, 0, 0, 0, 0, 0, 0, 0, 0, 0, 0, 0, 0, 0, 0, 0, 0, 0, 0, 0, 0, 0, 0, 0, 0, 0, 0, 0, 0, 0, 0, 0, 0, 0, 0, 0, 0, 0, 0, 0, 0, 0, 0, 0, 0, 0, 0, 0, 0, 0, 0, 0, 0, 0, 0, 0, 0, 0, 0, 0, 0, 0, 0, 0, 0, 0, 0, 0, 0, 0, 0, 0, 0, 0, 0, 0, 0, 0, 0, 0, 0, 0, 0, 0, 0, 0, 0, 0, 0, 0, 0, 0, 0, 0, 0, 0, 0, 0, 0, 0, 0, 0, 0, 0, 0, 0, 0, 0, 0, 0, 0, 0, 0, 0, 0, 0, 0, 0, 0, 0, 0, 0, 0, 0, 0, 0, 0, 0, 0, 0, 0, 0, 0, 0, 0, 0, 0, 0, 0, 0, 0, 0, 0, 0, 0, 0, 0, 0, 0, 0, 0, 0, 0, 0, 0, 0, 0, 0, 0, 0, 0, 0, 0, 0, 0, 0, 0, 0, 0, 0, 0, 0, 0, 0, 0, 0, 0, 0, 0, 0, 0, 0, 0, 0, 0, 0, 0, 0, 0, 0, 0, 0, 0, 0, 0, 0, 0, 0, 0, 0, 0, 0, 0, 0, 0, 0, 0, 0, 0, 0, 0, 0, 0, 0, 0, 0, 0, 0, 0, 0, 0, 0, 0, 0, 0, 0, 0, 0, 0, 0, 0, 0, 0, 0, 0, 0, 0, 0, 0, 0, 0, 0, 0, 0, 0, 0, 0, 0, 0, 0, 0, 0, 0, 0, 0, 0, 0, 0, 0, 0, 0, 0, 0, 0, 0, 0, 0, 0, 0, 0, 0, 18456, 6227, 3525, 11183, 753, 926, 4601, 873, 3525, 287, 14, 950, 10681, 999, 639, 2670, 70], [4003, 12522, 6222, 6, 1016, 1303, 922, 194, 83, 211, 2389, 4297, 1797, 1921, 1303, 1828, 8780, 45, 2980, 247, 104, 145, 1, 22, 897, 43, 8780, 1, 692, 874, 6, 111, 1, 641, 1187, 191, 589, 1647, 502, 204, 730, 692, 6399, 5862, 2635, 315, 24, 365, 34, 255, 315, 1903, 4754, 637, 258, 2420, 1237, 526, 11378, 1157, 56, 197, 335, 106, 128, 1716, 26, 14, 899, 8780, 3525, 26, 14, 4963, 103, 62602, 3459, 729, 1067, 4963, 861, 304, 2567, 396, 122, 628, 4767, 160, 128, 13930, 13095, 1944, 747, 4863, 1, 374, 1472, 2539, 8780, 77, 1287, 1040, 12065, 196, 8898, 86, 70, 80, 2921, 194, 1100, 160, 396, 819, 2996, 1336, 8780, 372, 2946, 4963, 128, 178, 4963, 4524, 807, 401, 2331, 321, 2064, 3226, 747, 4863, 672, 902, 422, 26, 11, 281, 1016, 46, 4625, 14, 281, 11958, 160, 2479, 1486, 11958, 747, 4863, 1, 1565, 4122, 2035, 26, 14, 2, 3207, 4122, 160, 2689, 8780, 2596, 136, 2098, 1008, 26, 2876, 19247, 1187, 6427, 1067, 26, 14, 2035, 6, 1016, 2865, 1, 230, 21, 2035, 13, 8780, 694, 8780, 91, 6718, 14051, 856, 79235, 86, 70, 4825, 716, 9060, 2683, 14425, 2550, 7632, 196, 4630, 314, 1, 8780, 1053, 8552, 511, 1082, 434, 391, 1360, 4003, 12522, 111, 1411, 14040, 3862, 3354, 11293, 6039, 173, 6126, 33500, 136, 2098, 4003, 12522, 12444, 434, 589, 3525, 518, 214, 2035, 223, 881, 91, 214, 2359, 437, 1263, 1959, 31105, 173, 709, 201, 1593, 11758, 4003, 12522, 12444, 589, 993, 2095, 3525, 26, 14, 2035, 2325, 743, 2567, 53, 70, 10, 4963, 14, 246, 173, 709, 1624, 201, 2447, 1360, 4003, 12522, 26, 111, 15153, 36, 10544, 2098, 4017, 6427, 1606, 6, 11, 4963, 266, 1413, 111, 37, 12, 1366, 2142, 103, 40, 111, 19, 244]], \"key\": 2}\r\n"
     ]
    }
   ],
   "source": [
    "import json\n",
    "prediction_json = list(zip(test_claim_seq[:2].tolist(), test_article_seq[:2].tolist()))\n",
    "prediction_json = list(zip(test_claim_seq[:2].tolist(), test_article_seq[:2].tolist()))\n",
    "\n",
    "# prediction_json = []\n",
    "# prediction_df = pd.DataFrame(prediction_json)\n",
    "# prediction_df.to_json('prediction_input.json')\n",
    "\n",
    "# with open('prediction_input.json', 'w') as json_file:\n",
    "#     for row in prediction_df.values.tolist():\n",
    "#         json.dump(row, json_file)\n",
    "#         json_file.write('\\n')\n",
    "\n",
    "# with open(\"prediction_input.json\", \"w\") as write_file:\n",
    "#     json.dump(prediction_json, write_file)\n",
    "\n",
    "\n",
    "# predict_instance_json = \"prediction_input.json\"\n",
    "\n",
    "# with open(predict_instance_json, \"wb\") as fp:\n",
    "#         fp.write(json.dumps(prediction_json).encode())\n",
    "    \n",
    "i = 1\n",
    "with open('prediction_input.json', 'w') as json_file:\n",
    "    for row in prediction_json:\n",
    "        json.dump({\"values\": row, \"key\": i}, json_file)\n",
    "        json_file.write('\\n')\n",
    "        i +=1\n",
    "    \n",
    "! cat prediction_input.json"
   ]
  },
  {
   "cell_type": "code",
   "execution_count": 61,
   "metadata": {},
   "outputs": [
    {
     "name": "stdout",
     "output_type": "stream",
     "text": [
      "{\r\n",
      "  \"error\": \"Prediction failed: Unexpected tensor name: values\"\r\n",
      "}\r\n"
     ]
    }
   ],
   "source": [
    "! gcloud ai-platform predict \\\n",
    "  --model $MODEL_NAME \\\n",
    "  --version $MODEL_VERSION \\\n",
    "  --json-instances prediction_input.json"
   ]
  },
  {
   "cell_type": "code",
   "execution_count": 60,
   "metadata": {},
   "outputs": [
    {
     "name": "stdout",
     "output_type": "stream",
     "text": [
      "\u001b[1;31mERROR:\u001b[0m (gcloud.components.update) \r\n",
      "You cannot perform this action because the Cloud SDK component manager \r\n",
      "is disabled for this installation. You can run the following command \r\n",
      "to achieve the same result for this installation: \r\n",
      "\r\n",
      "sudo apt-get update && sudo apt-get --only-upgrade install kubectl google-cloud-sdk google-cloud-sdk-app-engine-grpc google-cloud-sdk-pubsub-emulator google-cloud-sdk-app-engine-go google-cloud-sdk-cloud-build-local google-cloud-sdk-datastore-emulator google-cloud-sdk-app-engine-python google-cloud-sdk-cbt google-cloud-sdk-bigtable-emulator google-cloud-sdk-app-engine-python-extras google-cloud-sdk-datalab google-cloud-sdk-app-engine-java\r\n",
      "\r\n",
      "\r\n"
     ]
    }
   ],
   "source": [
    "! gcloud components update"
   ]
  },
  {
   "cell_type": "markdown",
   "metadata": {},
   "source": [
    "# Cleanup"
   ]
  },
  {
   "cell_type": "code",
   "execution_count": 63,
   "metadata": {},
   "outputs": [
    {
     "name": "stdout",
     "output_type": "stream",
     "text": [
      "Removing gs://fakenews-259222-model/data#1574302320694473...\n",
      "Removing gs://fakenews-259222-model/data/full_train.cvs#1574305632477844...     \n",
      "/ [2 objects]                                                                   \n",
      "Operation completed over 2 objects.                                              \n",
      "Removing gs://fakenews-259222-model/...\n",
      "\u001b[1;31mERROR:\u001b[0m (gcloud.ai-platform.versions.delete) NOT_FOUND: Field: name Error: The model resource: \"my_first_keras_model\" was not found. Please create the Cloud ML model resource first by using 'gcloud ml-engine models create my_first_keras_model'.\n",
      "- '@type': type.googleapis.com/google.rpc.BadRequest\n",
      "  fieldViolations:\n",
      "  - description: \"The model resource: \\\"my_first_keras_model\\\" was not found. Please\\\n",
      "      \\ create the Cloud ML model resource first by using 'gcloud ml-engine models\\\n",
      "      \\ create my_first_keras_model'.\"\n",
      "    field: name\n",
      "\u001b[1;31mERROR:\u001b[0m (gcloud.ai-platform.models.delete) NOT_FOUND: Field: name Error: The model resource: \"my_first_keras_model\" was not found. Please create the Cloud ML model resource first by using 'gcloud ml-engine models create my_first_keras_model'.\n",
      "- '@type': type.googleapis.com/google.rpc.BadRequest\n",
      "  fieldViolations:\n",
      "  - description: \"The model resource: \\\"my_first_keras_model\\\" was not found. Please\\\n",
      "      \\ create the Cloud ML model resource first by using 'gcloud ml-engine models\\\n",
      "      \\ create my_first_keras_model'.\"\n",
      "    field: name\n",
      "BucketNotFoundException: 404 gs://fakenews-259222-model bucket does not exist.\n",
      "CommandException: Encountered non-existent bucket during listing\n"
     ]
    }
   ],
   "source": [
    "\n",
    "# Delete bucket\n",
    "! gsutil rm -r gs://$BUCKET_NAME\n",
    "    \n",
    "# Delete model version resource\n",
    "! gcloud ai-platform versions delete $MODEL_VERSION --quiet --model $MODEL_NAME \n",
    "\n",
    "# Delete model resource\n",
    "! gcloud ai-platform models delete $MODEL_NAME --quiet\n",
    "\n",
    "# Delete Cloud Storage objects that were created\n",
    "! gsutil -m rm -r $JOB_DIR\n",
    "\n",
    "# If the training job is still running, cancel it\n",
    "! gcloud ai-platform jobs cancel $JOB_NAME --quiet --verbosity critical"
   ]
  },
  {
   "cell_type": "code",
   "execution_count": null,
   "metadata": {},
   "outputs": [],
   "source": []
  }
 ],
 "metadata": {
  "kernelspec": {
   "display_name": "Python 3",
   "language": "python",
   "name": "python3"
  },
  "language_info": {
   "codemirror_mode": {
    "name": "ipython",
    "version": 3
   },
   "file_extension": ".py",
   "mimetype": "text/x-python",
   "name": "python",
   "nbconvert_exporter": "python",
   "pygments_lexer": "ipython3",
   "version": "3.5.2"
  }
 },
 "nbformat": 4,
 "nbformat_minor": 2
}
