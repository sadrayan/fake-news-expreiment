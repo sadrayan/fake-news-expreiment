{
 "cells": [
  {
   "cell_type": "code",
   "execution_count": 7,
   "metadata": {},
   "outputs": [
    {
     "name": "stdout",
     "output_type": "stream",
     "text": [
      "[NbConvertApp] Converting notebook attention-dual-input.ipynb to python\n",
      "[NbConvertApp] Writing 11752 bytes to ./trainer/attention-dual-input.py\n",
      "[NbConvertApp] Converting notebook convert_to_py.ipynb to python\n",
      "[NbConvertApp] Writing 327 bytes to ./trainer/convert_to_py.py\n",
      "[NbConvertApp] Converting notebook model.ipynb to python\n",
      "[NbConvertApp] Writing 5172 bytes to ./trainer/model.py\n",
      "[NbConvertApp] Converting notebook task.ipynb to python\n",
      "[NbConvertApp] Writing 4023 bytes to ./trainer/task.py\n",
      "[NbConvertApp] Converting notebook util.ipynb to python\n",
      "[NbConvertApp] Writing 2824 bytes to ./trainer/util.py\n"
     ]
    }
   ],
   "source": [
    "! jupyter nbconvert *.ipynb --to python --output-dir=./trainer\n",
    "! touch ./trainer/__init__.py\n",
    "! rm ./trainer/convert_to_py.py"
   ]
  },
  {
   "cell_type": "code",
   "execution_count": null,
   "metadata": {},
   "outputs": [],
   "source": [
    "# # Update datasets\n",
    "# ! gsutil -m cp -r ../data/full_train.cvs gs://$BUCKET_NAME/data/"
   ]
  },
  {
   "cell_type": "code",
   "execution_count": null,
   "metadata": {},
   "outputs": [],
   "source": []
  }
 ],
 "metadata": {
  "kernelspec": {
   "display_name": "Python 3",
   "language": "python",
   "name": "python3"
  },
  "language_info": {
   "codemirror_mode": {
    "name": "ipython",
    "version": 3
   },
   "file_extension": ".py",
   "mimetype": "text/x-python",
   "name": "python",
   "nbconvert_exporter": "python",
   "pygments_lexer": "ipython3",
   "version": "3.5.2"
  }
 },
 "nbformat": 4,
 "nbformat_minor": 2
}
